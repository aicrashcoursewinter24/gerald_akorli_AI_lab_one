{
  "cells": [
    {
      "cell_type": "markdown",
      "metadata": {},
      "source": [
        "# Lab Day 2 Assignment\n",
        "\n",
        "- Open your gpt-exploration.ipynb from your git repo in Colab\n",
        "- Pull in the bert-base-uncased model, use it to generate embeddings for some text,and compare the embeddings to each other via cosine similarity (or euclidean distance)\n",
        "- Pick a sentence with one or more words with multiple meanings (depending on context), like “flies” (could mean the plural - the insect -  or could be the verb “to fly”), and compute the contextual BERT embeddings for all the the words in the sentence.\n",
        "- Pick another sentence, with one or more of those ambiguous words but with another meaning, and generate the contextual BERT embeddings for the words in that sentence.  Compare and contrast contextual embedding vectors of words which have changed meaning and those whose meaning has stayed the same.\n",
        "- Save your notebook back to a branch on your github repo, and add me as a reviewer on a PR against main\n"
      ]
    },
    {
      "cell_type": "code",
      "execution_count": null,
      "metadata": {},
      "outputs": [],
      "source": [
        "! pip install transformers"
      ]
    },
    {
      "cell_type": "code",
      "execution_count": null,
      "metadata": {
        "id": "tuKpxXkLIRnl",
        "tags": []
      },
      "outputs": [],
      "source": []
    }
  ],
  "metadata": {
    "colab": {
      "provenance": []
    },
    "kernelspec": {
      "display_name": "Python 3",
      "name": "python3"
    },
    "language_info": {
      "codemirror_mode": {
        "name": "ipython",
        "version": 3
      },
      "file_extension": ".py",
      "mimetype": "text/x-python",
      "name": "python",
      "nbconvert_exporter": "python",
      "pygments_lexer": "ipython3",
      "version": "3.11.6"
    }
  },
  "nbformat": 4,
  "nbformat_minor": 0
}
